{
 "cells": [
  {
   "cell_type": "code",
   "execution_count": null,
   "id": "ce8769dd-6fbb-4180-b1a7-db430c994753",
   "metadata": {},
   "outputs": [],
   "source": []
  }
 ],
 "metadata": {
  "kernelspec": {
   "display_name": "",
   "name": ""
  },
  "language_info": {
   "name": ""
  }
 },
 "nbformat": 4,
 "nbformat_minor": 5
}
